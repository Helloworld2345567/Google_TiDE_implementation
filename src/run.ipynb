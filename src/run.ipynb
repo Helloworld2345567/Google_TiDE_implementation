{
 "cells": [
  {
   "cell_type": "code",
   "execution_count": 67,
   "metadata": {
    "tags": []
   },
   "outputs": [
    {
     "name": "stdout",
     "output_type": "stream",
     "text": [
      "/root/data1/ym/google_tide/TiDE/src\n",
      "cdb622e11693\n",
      "Tue Jun  6 21:39:09 CST 2023\n",
      "starting job...\n",
      "/root/data1/ym/google_tide/TiDE/src\n",
      "loading the val data...\n",
      "DataSet_traffic.csv.shape: (17544, 863)\n",
      "Loading finished.  val data:  1661\n",
      "val dataloader:  1661\n",
      "val_mse_loss: 0.34386152104395545, val_mae_loss: 0.25512412540314067\n",
      "val data.shape: (862, 1728)\n",
      "总预测长度Lenth： 720\n",
      "Figure(640x480)\n"
     ]
    }
   ],
   "source": [
    "#valilation data after scale transform  (last column OT)\n",
    "!bash ./scripts/val.sh"
   ]
  },
  {
   "cell_type": "code",
   "execution_count": null,
   "metadata": {
    "tags": []
   },
   "outputs": [],
   "source": [
    "#complete \n",
    "!bash ./scripts/traffic.sh"
   ]
  },
  {
   "cell_type": "code",
   "execution_count": null,
   "metadata": {
    "tags": []
   },
   "outputs": [],
   "source": [
    "#完成 complete \n",
    "!bash ./scripts/electricity.sh"
   ]
  },
  {
   "cell_type": "code",
   "execution_count": null,
   "metadata": {
    "tags": []
   },
   "outputs": [],
   "source": [
    "#small dataset(966, 8) , bad performance,overfitting ,modify args.seq_len,lookback_len,\n",
    "!bash ./scripts/illness.sh"
   ]
  },
  {
   "cell_type": "code",
   "execution_count": null,
   "metadata": {
    "tags": []
   },
   "outputs": [],
   "source": [
    "# complete ,\n",
    "!bash ./scripts/exchange_rate.sh"
   ]
  },
  {
   "cell_type": "code",
   "execution_count": null,
   "metadata": {
    "tags": []
   },
   "outputs": [],
   "source": [
    "#完成 complete\n",
    "!bash ./scripts/weather.sh"
   ]
  },
  {
   "cell_type": "code",
   "execution_count": null,
   "metadata": {
    "tags": []
   },
   "outputs": [],
   "source": [
    "#完成 complete\n",
    "!bash ./scripts/ETTh1.sh"
   ]
  },
  {
   "cell_type": "code",
   "execution_count": null,
   "metadata": {
    "tags": []
   },
   "outputs": [],
   "source": [
    "#完成 complete\n",
    "!bash ./scripts/ETTh2.sh"
   ]
  },
  {
   "cell_type": "code",
   "execution_count": null,
   "metadata": {
    "tags": []
   },
   "outputs": [],
   "source": [
    "#完成 complete\n",
    "!bash ./scripts/ETTm1.sh "
   ]
  },
  {
   "cell_type": "code",
   "execution_count": null,
   "metadata": {
    "tags": []
   },
   "outputs": [],
   "source": [
    "#完成 complete\n",
    "!bash ./scripts/ETTm2.sh"
   ]
  },
  {
   "cell_type": "code",
   "execution_count": null,
   "metadata": {},
   "outputs": [],
   "source": []
  }
 ],
 "metadata": {
  "kernelspec": {
   "display_name": "Python 3 (ipykernel)",
   "language": "python",
   "name": "python3"
  },
  "language_info": {
   "codemirror_mode": {
    "name": "ipython",
    "version": 3
   },
   "file_extension": ".py",
   "mimetype": "text/x-python",
   "name": "python",
   "nbconvert_exporter": "python",
   "pygments_lexer": "ipython3",
   "version": "3.10.6"
  }
 },
 "nbformat": 4,
 "nbformat_minor": 4
}
